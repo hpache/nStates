{
 "metadata": {
  "language_info": {
   "codemirror_mode": {
    "name": "ipython",
    "version": 3
   },
   "file_extension": ".py",
   "mimetype": "text/x-python",
   "name": "python",
   "nbconvert_exporter": "python",
   "pygments_lexer": "ipython3",
   "version": "3.8.5-final"
  },
  "orig_nbformat": 2,
  "kernelspec": {
   "name": "python3",
   "display_name": "Python 3.8.5 32-bit",
   "metadata": {
    "interpreter": {
     "hash": "000b5b4c8dd36d7f3588e31077b8eae16afa93067ebff3ce92d00fc5f9820674"
    }
   }
  }
 },
 "nbformat": 4,
 "nbformat_minor": 2,
 "cells": [
  {
   "source": [
    "Henry Pacheco Cachon\n",
    "\n",
    "Created: 1/30/2021 Last Modified: 02/02/2021\n",
    "\n",
    "The purpose of this notebook is to create a fourlevel array which can be used in c++ in order to run computations quickly. This is more to see if it's or not!"
   ],
   "cell_type": "markdown",
   "metadata": {}
  },
  {
   "cell_type": "code",
   "execution_count": 17,
   "metadata": {},
   "outputs": [],
   "source": [
    "import numpy as np\n",
    "from sympy import *\n",
    "import nStates as ns \n",
    "import matplotlib.pyplot as plt \n",
    "import pandas as pd\n",
    "from scipy import sparse\n",
    "from numba import jit"
   ]
  },
  {
   "cell_type": "code",
   "execution_count": 18,
   "metadata": {},
   "outputs": [],
   "source": [
    "# Initializing all variables\n",
    "\n",
    "kB = 1.381e-23 \n",
    "AMU = 1.66e-27 \n",
    "mAtom = 39\n",
    "temperature = 323\n",
    "cellLength = 7.0\n",
    "u = np.sqrt(2*kB*temperature/(mAtom*AMU))*100\n",
    "logP = 9.967 - 4646/temperature\n",
    "pressure = 10 ** logP\n",
    "density = (pressure)/(kB*temperature) * 1e-06\n",
    "\n",
    "gamma1 = 6.0\n",
    "gamma2 = 1.0\n",
    "gamma3 = 0.1\n",
    "\n",
    "gammaP = 0.2\n",
    "gammaC = 0.2\n",
    "\n",
    "omegaP = 2.5\n",
    "omegaC12 = 2.0\n",
    "omegaC13 = 0.9\n",
    "\n",
    "deltaP = 0.0\n",
    "delta23 = 5.0\n",
    "\n",
    "lambdaP = 767 * 1e-07\n",
    "lambdaC = 696 * 1e-07\n",
    "\n",
    "alphaP_0 = (3/(2*np.pi)) * lambdaP**2 * density\n",
    "alphaC_0 = (3/(2*np.pi)) * lambdaC**2 * density\n",
    "\n",
    "k_P = 1/lambdaP * 1e-06\n",
    "k_C = 1/lambdaC * 1e-06\n",
    "\n",
    "couplingDetunings = np.linspace(-60,40,201)\n",
    "velocities = np.linspace(-10000,10000,201)\n",
    "dv = velocities[1] - velocities[0]"
   ]
  },
  {
   "cell_type": "code",
   "execution_count": 19,
   "metadata": {},
   "outputs": [],
   "source": [
    "# Initializing the symbols for our hamiltonian\n",
    "dp0, rabi01, rabi12, rabi13, dc0, Delta23, kp, kc, v = symbols('delta_p Omega_01 Omega_12 Omega_13 delta_c Delta_23 k_p k_c v')\n",
    "\n",
    "# Initializing our hamiltonian array\n",
    "H = np.array([[-(dp0+kp*v), 1/2*rabi01, 0, 0],[1/2*rabi01, 0, 1/2*rabi12, 1/2*rabi13],[0, 1/2*rabi12, (dc0-kc*v), 0],[0, 1/2*rabi13, 0, (dc0-kc*v) + Delta23]])\n",
    "\n",
    "# Initializing the allowed transitions in our system\n",
    "transitions = [(1,0),(2,1),(3,1)]\n",
    "\n",
    "# Dictionary of parameters that we want to hold constant\n",
    "static = {Symbol('rho_00') : 1-Symbol('rho_11')-Symbol('rho_22')-Symbol('rho_33')}\n",
    "\n",
    "# Initializing all of our static parameters and hamiltonian into the States class \n",
    "fourLevel = ns.States(numberStates=4, hamiltonian=H, staticDictionary=static)"
   ]
  },
  {
   "cell_type": "code",
   "execution_count": 20,
   "metadata": {},
   "outputs": [],
   "source": [
    "constants = [dp0, rabi01, rabi12, rabi13, dc0, Delta23, kp, kc, v, Symbol(\"Gamma_21\"), Symbol(\"Gamma_31\"), Symbol('Gamma_10'), Symbol('gamma_p'), Symbol('gamma_c')]"
   ]
  },
  {
   "cell_type": "code",
   "execution_count": 21,
   "metadata": {},
   "outputs": [],
   "source": [
    "# Creating our lindblad matrix with allowed transitions\n",
    "fourLevel.lindbladMatrix(transitions,laser=True)\n",
    "\n",
    "# Creating our density matrix\n",
    "fourLevel.densityMatrix()\n",
    "\n",
    "# Symbolically computing the i[p,H] + L matrix\n",
    "fourLevel.superMatrix()\n",
    "\n",
    "# Extracting the density matrix equations from the super matrix\n",
    "fourLevel.makeEquations()\n",
    "\n",
    "symbolicMatrix = fourLevel.changeParam(constants,cpp=True)"
   ]
  },
  {
   "source": [
    "I want the output to be this matrix \n",
    "\n",
    "$$ \n",
    "\n",
    "\\left[\\begin{array}{ccccccccccccccc}-6.0 & 1.0 & 0.1 & - 1.25 i & 0 & 0 & 1.25 i & 1.0 i & 0.45 i & 0 & - 1.0 i & 0 & 0 & - 0.45 i & 0\\\\0 & -1.0 & 0 & 0 & 0 & 0 & 0 & - 1.0 i & 0 & 0 & 1.0 i & 0 & 0 & 0 & 0\\\\0 & 0 & -0.1 & 0 & 0 & 0 & 0 & 0 & - 0.45 i & 0 & 0 & 0 & 0 & 0.45 i & 0\\\\- 2.5 i & - 1.25 i & - 1.25 i & 1.0 i k_{p} v - 2.8 & 1.0 i & 0.45 i & 0 & 0 & 0 & 0 & 0 & 0 & 0 & 0 & 0\\\\0 & 0 & 0 & 1.0 i & 1.0 i \\left(\\delta_{c} - k_{c} v + k_{p} v\\right) - 0.9 & 0 & 0 & - 1.25 i & 0 & 0 & 0 & 0 & 0 & 0 & 0\\\\0 & 0 & 0 & 0.45 i & 0 & 1.0 i \\left(\\Delta_{23} + \\delta_{c} - k_{c} v + k_{p} v\\right) - 0.45 & 0 & 0 & - 1.25 i & 0 & 0 & 0 & 0 & 0 & 0\\\\2.5 i & 1.25 i & 1.25 i & 0 & 0 & 0 & - 1.0 i k_{p} v - 3.2 & 0 & 0 & - 1.0 i & 0 & 0 & - 0.45 i & 0 & 0\\\\1.0 i & - 1.0 i & 0 & 0 & - 1.25 i & 0 & 0 & 1.0 i \\left(\\delta_{c} - k_{c} v\\right) - 3.7 & 0 & 0 & 0 & 0 & 0 & 0 & - 0.45 i\\\\0.45 i & 0 & - 0.45 i & 0 & 0 & - 1.25 i & 0 & 0 & 1.0 i \\left(\\Delta_{23} + \\delta_{c} - k_{c} v\\right) - 3.25 & 0 & 0 & - 1.0 i & 0 & 0 & 0\\\\0 & 0 & 0 & 0 & 0 & 0 & - 1.0 i & 0 & 0 & 1.0 i \\left(- k_{p} v - \\left(\\delta_{c} - k_{c} v\\right)\\right) - 0.9 & 1.25 i & 0 & 0 & 0 & 0\\\\- 1.0 i & 1.0 i & 0 & 0 & 0 & 0 & 0 & 0 & 0 & 1.25 i & - 1.0 i \\left(\\delta_{c} - k_{c} v\\right) - 3.7 & 0.45 i & 0 & 0 & 0\\\\0 & 0 & 0 & 0 & 0 & 0 & 0 & 0 & - 1.0 i & 0 & 0.45 i & 1.0 i \\left(\\Delta_{23} + \\delta_{c} - k_{c} v - \\left(\\delta_{c} - k_{c} v\\right)\\right) - 0.55 & 0 & 0 & 0\\\\0 & 0 & 0 & 0 & 0 & 0 & - 0.45 i & 0 & 0 & 0 & 0 & 0 & 1.0 i \\left(- k_{p} v - \\left(\\Delta_{23} + \\delta_{c} - k_{c} v\\right)\\right) - 0.45 & 1.25 i & 0\\\\- 0.45 i & 0 & 0.45 i & 0 & 0 & 0 & 0 & 0 & 0 & 0 & 0 & 0 & 1.25 i & - 1.0 i \\left(\\Delta_{23} + \\delta_{c} - k_{c} v\\right) - 3.25 & 1.0 i\\\\0 & 0 & 0 & 0 & 0 & 0 & 0 & - 0.45 i & 0 & 0 & 0 & 0 & 0 & 1.0 i & 1.0 i \\left(\\delta_{c} - k_{c} v - \\left(\\Delta_{23} + \\delta_{c} - k_{c} v\\right)\\right) - 0.55\\end{array}\\right]\n",
    "\n",
    "\n",
    "$$ \n",
    "\n",
    "This is a huge matrix and I really don't want to be the one making this by hand in C++ "
   ],
   "cell_type": "markdown",
   "metadata": {}
  },
  {
   "cell_type": "code",
   "execution_count": 22,
   "metadata": {},
   "outputs": [],
   "source": [
    "from sympy.printing.c import C11CodePrinter"
   ]
  },
  {
   "cell_type": "code",
   "execution_count": 23,
   "metadata": {},
   "outputs": [],
   "source": [
    "printer = C11CodePrinter()"
   ]
  },
  {
   "cell_type": "code",
   "execution_count": 24,
   "metadata": {},
   "outputs": [],
   "source": [
    "A = MatrixSymbol('A',15,15)"
   ]
  },
  {
   "cell_type": "code",
   "execution_count": 25,
   "metadata": {},
   "outputs": [],
   "source": [
    "test = printer.doprint(symbolicMatrix,assign_to=A)"
   ]
  },
  {
   "cell_type": "code",
   "execution_count": 26,
   "metadata": {},
   "outputs": [],
   "source": [
    "Lines = test.split('\\n')"
   ]
  },
  {
   "cell_type": "code",
   "execution_count": 27,
   "metadata": {},
   "outputs": [],
   "source": [
    "from re import search"
   ]
  },
  {
   "cell_type": "code",
   "execution_count": 28,
   "metadata": {},
   "outputs": [],
   "source": [
    "row = 0\n",
    "matrixAssign = \".coeffRef({},{})\"\n",
    "complexFormat = \"dcomplex({},{});\"\n",
    "newLines = []\n",
    "for string in Lines:\n",
    "\n",
    "    #Getting Indexes\n",
    "    l = string.index('[')\n",
    "    r = string.index(']')\n",
    "    number = int(string[l+1:r])\n",
    "\n",
    "    x = number%15\n",
    "    y = row\n",
    "\n",
    "    #Get values\n",
    "    eq = string.index('=')\n",
    "    stop = string.index(';')\n",
    "    value = string[eq+2:stop]\n",
    "    \n",
    "    if value != '0':\n",
    "\n",
    "        if search('I',value):\n",
    "\n",
    "            if value.rfind(' ') == -1:\n",
    "                pro = value.index('*')\n",
    "                newComplex = complexFormat.format(0,value.replace('I*',''))\n",
    "            else:\n",
    "                bigBoi = value.split(' ')\n",
    "                a = ''\n",
    "                b = ''\n",
    "                check = 0\n",
    "\n",
    "                for i in range(len(bigBoi)):\n",
    "                    val = bigBoi[i]\n",
    "                    if val.find(\"I\") != -1:\n",
    "                        check = i\n",
    "                \n",
    "                bigBoi[check:] = [''.join(bigBoi[check:])]\n",
    "\n",
    "                for i in range(len(bigBoi)):\n",
    "                    val = bigBoi[i]\n",
    "                    if val.find(\"I\") != -1:\n",
    "                        sign = bigBoi[i-1]\n",
    "                        if sign == \"+\":\n",
    "                            b += val\n",
    "                        else:\n",
    "                            b = sign + val\n",
    "                    else:\n",
    "                        a += val\n",
    "                \n",
    "                a = a[:-1]\n",
    "                b = b.replace(\"I*\",'')\n",
    "                newComplex = complexFormat.format(a,b)\n",
    "            \n",
    "        else:\n",
    "            newComplex = complexFormat.format(value,0)\n",
    "\n",
    "        newString = string[:l] + matrixAssign.format(y,x) + string[r+1:r+4] + newComplex +'\\n'\n",
    "        newLines.append(newString)\n",
    "\n",
    "    if x == 14:\n",
    "        row +=1\n",
    "    "
   ]
  },
  {
   "cell_type": "code",
   "execution_count": 29,
   "metadata": {},
   "outputs": [],
   "source": [
    "newVar = \"double {};\\n\"\n",
    "globalVars = [newVar.format(i) for i in constants] + ['\\n','\\n']\n",
    "function = [\"SparseMatrix<dcomplex> M(delta_c, v){\\n\",\"\\n\"]"
   ]
  },
  {
   "cell_type": "code",
   "execution_count": 30,
   "metadata": {},
   "outputs": [],
   "source": [
    "allLines = globalVars + function + [\"   \"+ string for string in newLines] + ['\\n','   A.makeCompressed();\\n','\\n','   return A;\\n \\n','}']"
   ]
  },
  {
   "cell_type": "code",
   "execution_count": 31,
   "metadata": {},
   "outputs": [],
   "source": [
    "testFile = open(\"test.txt\",'w')\n",
    "testFile.writelines(allLines)\n",
    "testFile.close()"
   ]
  },
  {
   "cell_type": "code",
   "execution_count": null,
   "metadata": {},
   "outputs": [],
   "source": []
  }
 ]
}
